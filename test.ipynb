{
 "cells": [
  {
   "cell_type": "code",
   "execution_count": 1,
   "id": "52641645",
   "metadata": {},
   "outputs": [],
   "source": [
    "import os\n",
    "import glob\n",
    "import numpy as np\n",
    "from PIL import Image, ImageOps\n",
    "import tensorflow as tf\n",
    "from models import *\n",
    "from predict import SRImage\n",
    "import cv2\n",
    "from skimage.metrics import structural_similarity as ssim\n",
    "import matplotlib.pyplot as plt"
   ]
  },
  {
   "cell_type": "code",
   "execution_count": 2,
   "id": "b2302869",
   "metadata": {},
   "outputs": [],
   "source": [
    "dataset_folder = os.path.abspath('dataset')\n",
    "dataset_parameters = {'train_low_res':'LR/DIV2K_train_LR_bicubic',\n",
    "                     'val_low_res': 'LR/DIV2K_valid_LR_bicubic',\n",
    "                     'data_directory': dataset_folder}"
   ]
  },
  {
   "cell_type": "code",
   "execution_count": 3,
   "id": "798fd500",
   "metadata": {},
   "outputs": [],
   "source": [
    "def load_image(path):\n",
    "    img = Image.open(path)\n",
    "    \n",
    "    isGray = len(img.getbands()) == 1\n",
    "    \n",
    "    if isGray or len(img.getbands()) == 4:\n",
    "        img = img.convert('RGB')\n",
    "    \n",
    "    return isGray, np.array(img)"
   ]
  },
  {
   "cell_type": "code",
   "execution_count": 4,
   "id": "0f39853c",
   "metadata": {},
   "outputs": [
    {
     "data": {
      "text/plain": [
       "'F:\\\\Study\\\\CS\\\\computer vision\\\\term project\\\\weights\\\\srganGenerator.h5'"
      ]
     },
     "execution_count": 4,
     "metadata": {},
     "output_type": "execute_result"
    }
   ],
   "source": [
    "file_path = os.path.abspath(\"weights/srganGenerator.h5\")\n",
    "if not os.path.exists(file_path):\n",
    "    os.makedirs(weights_directory, exist_ok=True)\n",
    "    \n",
    "    print(f\"The file: {file_path} is not found\")\n",
    "file_path"
   ]
  },
  {
   "cell_type": "code",
   "execution_count": 5,
   "id": "1c80e98e",
   "metadata": {},
   "outputs": [],
   "source": [
    "model = generatorNet()\n",
    "model.load_weights(file_path)"
   ]
  },
  {
   "cell_type": "code",
   "execution_count": 6,
   "id": "ea756a8b",
   "metadata": {},
   "outputs": [],
   "source": [
    "results_path = \"output/\"\n",
    "os.makedirs(results_path, exist_ok=True)"
   ]
  },
  {
   "cell_type": "code",
   "execution_count": 16,
   "id": "a1b38753",
   "metadata": {},
   "outputs": [],
   "source": [
    "num_examples = 100\n",
    "image_paths = glob.glob(\"dataset/LR/DIV2K_valid_LR_bicubic/*\")[:num_examples]\n",
    "\n",
    "# Get super resolution images\n",
    "SRs = []\n",
    "for image_path in image_paths:\n",
    "    # load the image\n",
    "    isGray, lr = load_image(image_path)\n",
    "    # get the super resolution image\n",
    "    sr = SRImage(model, lr)\n",
    "    # convert to gray if it was gray\n",
    "    if isGray:\n",
    "        sr = ImageOps.grayscale(sr)\n",
    "    SRs.append(sr)\n",
    "    image_name = image_path.split(\"\\\\\")[-1]\n",
    "    sr.save(f\"{results_path}{image_name}\" )"
   ]
  },
  {
   "cell_type": "code",
   "execution_count": 17,
   "id": "eadaf747",
   "metadata": {},
   "outputs": [],
   "source": [
    "image_paths = glob.glob(\"dataset/HR/DIV2K_valid_HR/*\")[:num_examples]\n",
    "\n",
    "# Load the High resolution images\n",
    "HRs = []\n",
    "for image_path in image_paths:\n",
    "    #print(image_path)\n",
    "    was_grayscale, hr = load_image(image_path)\n",
    "    \n",
    "    if was_grayscale:\n",
    "        hr = ImageOps.grayscale(hr)\n",
    "    HRs.append(hr)\n"
   ]
  },
  {
   "cell_type": "code",
   "execution_count": 18,
   "id": "0b6f11bd",
   "metadata": {},
   "outputs": [],
   "source": [
    "image_paths = glob.glob(\"dataset/LR/DIV2K_valid_LR_bicubic/*\")[:num_examples]\n",
    "# get the uscaled images using bicubic interpolation\n",
    "bicubics = []\n",
    "for image_path in image_paths:\n",
    "    #print(image_path)\n",
    "    lr = cv2.imread(image_path)\n",
    "    bc = cv2.resize(lr,None, fx=4, fy=4, interpolation=cv2.INTER_CUBIC)\n",
    "    bicubics.append(bc)\n"
   ]
  },
  {
   "cell_type": "code",
   "execution_count": 19,
   "id": "e1ef25b0",
   "metadata": {},
   "outputs": [
    {
     "name": "stdout",
     "output_type": "stream",
     "text": [
      "Average SSIM for SRGAN is: 0.83\n",
      "Average PSNR for SRGAN is:  28.93\n"
     ]
    }
   ],
   "source": [
    "# Calculate the Average PSNR and SSIM for SRGAN\n",
    "\n",
    "psnrs_SR=[] # psnr values will be stored here\n",
    "\n",
    "ssims_SR=[] # SSIM values will be stored here\n",
    "\n",
    "for sr,hr in zip(SRs,HRs):\n",
    "    \n",
    "    sr = np.array(sr) \n",
    "    # Convert RGB to BGR \n",
    "    sr = sr[:, :, ::-1].copy() \n",
    "    \n",
    "    hr = np.array(hr) \n",
    "    # Convert RGB to BGR \n",
    "    hr = hr[:, :, ::-1].copy()\n",
    "    \n",
    "    # calculate ssim of the images    \n",
    "    graySR = cv2.cvtColor(sr, cv2.COLOR_BGR2GRAY)\n",
    "    grayHR= cv2.cvtColor(hr, cv2.COLOR_BGR2GRAY)\n",
    "    score, _ = ssim(graySR, grayHR, full=True)\n",
    "    ssims_SR.append(score)\n",
    "    \n",
    "    psnr = cv2.PSNR(graySR, grayHR)\n",
    "    psnrs_SR.append(psnr)\n",
    "\n",
    "# for ssim in ssims:\n",
    "#     print(f\"SSIM:{ssim}\")\n",
    "\n",
    "print(f\"Average SSIM for SRGAN is: {sum(ssims_SR)/len(ssims_SR) :.2f}\")\n",
    "print(f\"Average PSNR for SRGAN is: {sum(psnrs_SR)/len(psnrs_SR): .2f}\")"
   ]
  },
  {
   "cell_type": "code",
   "execution_count": 20,
   "id": "052c315d",
   "metadata": {},
   "outputs": [
    {
     "name": "stdout",
     "output_type": "stream",
     "text": [
      "Average SSIM for Bicubic interpolation is: 0.77\n",
      "Average PSNR for Bicubic interpolation is: 26.91\n"
     ]
    }
   ],
   "source": [
    "# Bicubic Interpolation\n",
    "\n",
    "ssims_BC=[]\n",
    "# psnr\n",
    "psnrs_BC=[]\n",
    "for bc,hr in zip(bicubics,HRs):\n",
    "     \n",
    "    \n",
    "    hr = np.array(hr) \n",
    "    # Convert RGB to BGR \n",
    "    hr = hr[:, :, ::-1].copy()\n",
    "    \n",
    "    # calculate ssim of the images    \n",
    "    grayA = cv2.cvtColor(bc, cv2.COLOR_BGR2GRAY)\n",
    "    grayB = cv2.cvtColor(hr, cv2.COLOR_BGR2GRAY)\n",
    "    score, diff = ssim(grayA, grayB, full=True)\n",
    "    ssims_BC.append(score)\n",
    "    \n",
    "    # psnr\n",
    "    psnr = cv2.PSNR(grayA, grayB)\n",
    "    psnrs_BC.append(psnr)\n",
    "\n",
    "# for ssim in ssims:\n",
    "#     print(f\"SSIM:{ssim}\")\n",
    "\n",
    "print(f\"Average SSIM for Bicubic interpolation is: {sum(ssims_BC)/len(ssims_BC) :.2f}\")\n",
    "print(f\"Average PSNR for Bicubic interpolation is: {sum(psnrs_BC)/len(psnrs_BC) :.2f}\")"
   ]
  },
  {
   "cell_type": "code",
   "execution_count": 21,
   "id": "bc0637e2",
   "metadata": {},
   "outputs": [
    {
     "data": {
      "image/png": "[encoded data removed]",
      "text/plain": [
       "<Figure size 720x360 with 2 Axes>"
      ]
     },
     "metadata": {
      "needs_background": "light"
     },
     "output_type": "display_data"
    }
   ],
   "source": [
    "fig, ax = plt.subplots(1, 2, figsize=(10, 5));\n",
    "\n",
    "labels = [\"Bicubic\", \"SRGAN\"]\n",
    "avg_PSNR_values = [sum(psnrs_BC)/len(psnrs_BC), sum(psnrs_SR)/len(psnrs_SR)]\n",
    "ax[0].bar(labels,avg_PSNR_values, color='orange');\n",
    "ax[0].set_title('PSNR');\n",
    "ax[0].set_ylabel('PSNR Value');\n",
    "\n",
    "avg_SSIM_values = [sum(ssims_BC)/len(ssims_BC), sum(ssims_SR)/len(ssims_SR)]\n",
    "ax[1].bar(labels, avg_SSIM_values, color='green');\n",
    "ax[1].set_title('SSIM');\n",
    "ax[1].set_ylabel('SSIM Value');\n",
    "\n",
    "plt.show()"
   ]
  },
  {
   "cell_type": "code",
   "execution_count": null,
   "id": "a013e34c",
   "metadata": {},
   "outputs": [],
   "source": []
  }
 ],
 "metadata": {
  "kernelspec": {
   "display_name": "Python 3",
   "language": "python",
   "name": "python3"
  },
  "language_info": {
   "codemirror_mode": {
    "name": "ipython",
    "version": 3
   },
   "file_extension": ".py",
   "mimetype": "text/x-python",
   "name": "python",
   "nbconvert_exporter": "python",
   "pygments_lexer": "ipython3",
   "version": "3.8.8"
  }
 },
 "nbformat": 4,
 "nbformat_minor": 5
}
